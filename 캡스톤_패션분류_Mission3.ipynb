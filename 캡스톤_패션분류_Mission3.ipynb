{
  "nbformat": 4,
  "nbformat_minor": 0,
  "metadata": {
    "colab": {
      "provenance": []
    },
    "kernelspec": {
      "name": "python3",
      "display_name": "Python 3"
    },
    "language_info": {
      "name": "python"
    }
  },
  "cells": [
    {
      "cell_type": "code",
      "source": [
        "from google.colab import drive\n",
        "drive.mount('/content/drive')"
      ],
      "metadata": {
        "colab": {
          "base_uri": "https://localhost:8080/"
        },
        "id": "8JF-8uJywC7W",
        "outputId": "f212864f-3057-49b9-c120-1f381223c434"
      },
      "execution_count": 9,
      "outputs": [
        {
          "output_type": "stream",
          "name": "stdout",
          "text": [
            "Drive already mounted at /content/drive; to attempt to forcibly remount, call drive.mount(\"/content/drive\", force_remount=True).\n"
          ]
        }
      ]
    },
    {
      "cell_type": "code",
      "execution_count": 12,
      "metadata": {
        "id": "IYGJXAkUv4AP"
      },
      "outputs": [],
      "source": [
        "import pandas as pd\n",
        "import numpy as np\n",
        "from sklearn.metrics.pairwise import cosine_similarity\n",
        "import pandas as pd\n",
        "\n",
        "preference_df = pd.read_csv('/content/drive/MyDrive/fashion_data/sample/preference_df.csv', index_col=0)"
      ]
    },
    {
      "cell_type": "code",
      "source": [
        "# Mission3\n",
        "# 3 - 1은  MD파일에 기입\n",
        "# 3 - 2\n",
        "# 1. 아이템 간 코사인 유사도 계산\n",
        "preference_df.loc['user_1', preference_df.columns[:3]] = 0\n",
        "item_vectors = preference_df.T\n",
        "similarity_matrix = cosine_similarity(item_vectors)\n",
        "sim_df = pd.DataFrame(similarity_matrix, index=item_vectors.index, columns=item_vectors.index)\n",
        "\n",
        "# 2. 예측 함수: 특정 사용자에 대해 아직 평가하지 않은 아이템의 선호 여부 예측\n",
        "def predict_user_preference(user_id, top_n=5):\n",
        "    user_data = preference_df.loc[user_id]\n",
        "    scores = {}\n",
        "\n",
        "    for item in preference_df.columns:\n",
        "        if user_data[item] == 0:\n",
        "            sim_items = sim_df[item]\n",
        "            numerator = 0\n",
        "            denominator = 0\n",
        "            for other_item, sim in sim_items.items():\n",
        "                rating = user_data[other_item]\n",
        "                if rating > 0:\n",
        "                    numerator += sim * rating\n",
        "                    denominator += abs(sim)\n",
        "            scores[item] = numerator / denominator if denominator != 0 else 0\n",
        "\n",
        "    top_items = sorted(scores.items(), key=lambda x: -x[1])[:top_n]\n",
        "    return top_items\n",
        "\n",
        "# 3. 예시 실행\n",
        "user_to_predict = 'user_1'\n",
        "predicted = predict_user_preference(user_to_predict)\n",
        "\n",
        "print(f\"사용자 {user_to_predict}의 예측된 스타일 선호 상위 항목:\")\n",
        "for item, score in predicted:\n",
        "    print(f\"{item}: 예측 점수 {score:.4f}\")"
      ],
      "metadata": {
        "colab": {
          "base_uri": "https://localhost:8080/"
        },
        "id": "bieusmphxOey",
        "outputId": "aee088b4-c1a5-47c1-95fa-8e1437fcd7e1"
      },
      "execution_count": 16,
      "outputs": [
        {
          "output_type": "stream",
          "name": "stdout",
          "text": [
            "사용자 user_1의 예측된 스타일 선호 상위 항목:\n",
            "W_00001_80_style_W.jpg: 예측 점수 1.3391\n",
            "W_00002_80_style_W.jpg: 예측 점수 1.3372\n",
            "W_00003_90_style_W.jpg: 예측 점수 1.3369\n"
          ]
        }
      ]
    }
  ]
}